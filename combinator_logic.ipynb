{
  "nbformat": 4,
  "nbformat_minor": 0,
  "metadata": {
    "colab": {
      "provenance": [],
      "authorship_tag": "ABX9TyPZ84fgd7M+sOE5dIfIeKT/",
      "include_colab_link": true
    },
    "kernelspec": {
      "name": "python3",
      "display_name": "Python 3"
    },
    "language_info": {
      "name": "python"
    }
  },
  "cells": [
    {
      "cell_type": "markdown",
      "metadata": {
        "id": "view-in-github",
        "colab_type": "text"
      },
      "source": [
        "<a href=\"https://colab.research.google.com/github/tukamilano/combinatory_logic/blob/main/combinator_logic.ipynb\" target=\"_parent\"><img src=\"https://colab.research.google.com/assets/colab-badge.svg\" alt=\"Open In Colab\"/></a>"
      ]
    },
    {
      "cell_type": "markdown",
      "source": [
        "簡約された式のみをgenerateできるようにしといたほうが効率がいいかも？"
      ],
      "metadata": {
        "id": "GLQ85oy1ezBC"
      }
    },
    {
      "cell_type": "code",
      "source": [
        "def calculator_reduce(term, reduction_order): #reduction_order is \"left\", \"right\", or \"all\"\n",
        "  reduced = True\n",
        "  if (reduction_order == \"left\") or (reduction_order == \"all\"):\n",
        "    scan = range(len(term))\n",
        "  else:\n",
        "    scan = reversed(range(len(term)))\n",
        "\n",
        "  next_term_list = []\n",
        "  for i in scan:\n",
        "    for special_token in special_token_list:\n",
        "      depth = special_token_list[special_token][0]\n",
        "      if (depth <= i) and (term[i-depth:i+1] == \"A\" * depth + special_token):\n",
        "        pointer = i+1\n",
        "        separator = [pointer]\n",
        "        for _ in range(depth):\n",
        "          num_placeholder = 1\n",
        "          while num_placeholder != 0:\n",
        "            if term[pointer] == \"A\":\n",
        "              num_placeholder += 1\n",
        "            else:\n",
        "              num_placeholder -= 1\n",
        "            pointer += 1\n",
        "          separator.append(pointer)\n",
        "        new_term = term[:i-depth]\n",
        "        for repl in special_token_list[special_token][1]:\n",
        "          if isinstance(repl, str):\n",
        "            new_term += repl\n",
        "          else:\n",
        "            new_term += term[(separator[repl-1]):(separator[repl])]\n",
        "        new_term += term[pointer:]\n",
        "        reduced = False\n",
        "        if (reduction_order == \"left\") or (reduction_order == \"right\"):\n",
        "          return new_term, reduced\n",
        "        else:\n",
        "          next_term_list.append(new_term)\n",
        "\n",
        "  if (reduction_order == \"left\") or (reduction_order == \"right\"):\n",
        "    return term, reduced\n",
        "  else:\n",
        "    return next_term_list"
      ],
      "metadata": {
        "id": "sqB5XE0JhNDU"
      },
      "execution_count": null,
      "outputs": []
    },
    {
      "cell_type": "code",
      "source": [
        "from itertools import product\n",
        "\n",
        "def _generate_fixed_structure(n, sequence='', a_count=0, l_count=0, results=None):\n",
        "    if results is None:\n",
        "        results = []\n",
        "    if len(sequence) == 2 * n:\n",
        "        results.append(sequence + \"V\")\n",
        "        return results\n",
        "    if a_count < n:\n",
        "        _generate_fixed_structure(n, sequence + 'A', a_count + 1, l_count, results)\n",
        "    if l_count < a_count:\n",
        "        _generate_fixed_structure(n, sequence + 'V', a_count, l_count + 1, results)\n",
        "    return results\n",
        "\n",
        "def _replace_variables(all_structures, token_list):\n",
        "    new_sequences = []\n",
        "\n",
        "    for sequence in all_structures:\n",
        "        v_count = sequence.count(\"V\")\n",
        "        for replacement in product(token_list, repeat=v_count):\n",
        "            new_sequence = sequence\n",
        "            for var in replacement:\n",
        "                new_sequence = new_sequence.replace(\"V\", var, 1)\n",
        "            new_sequences.append(new_sequence)\n",
        "\n",
        "    return new_sequences\n",
        "\n",
        "def variable_generate_sequences(token_list, length):\n",
        "    all_structures = []\n",
        "    for n in range(0,length):\n",
        "        structure = _generate_fixed_structure(n)\n",
        "        all_structures.extend(structure)\n",
        "\n",
        "    all_sequences = _replace_variables(all_structures, token_list)\n",
        "\n",
        "    print(f\"Total number of sequences after variable replacement: {len(all_sequences)}\")\n",
        "    return all_sequences"
      ],
      "metadata": {
        "id": "VVsDGt-wVIzr"
      },
      "execution_count": null,
      "outputs": []
    },
    {
      "cell_type": "code",
      "source": [
        "def repeat_reduce(term, reduction_order=\"left\", max_repeat=10, max_length=100):\n",
        "  i = 0\n",
        "  reduction_history = [term]\n",
        "  while i < max_repeat:\n",
        "    next_term, reduced = calculator_reduce(term, reduction_order)\n",
        "    i += 1\n",
        "    if term != next_term:\n",
        "      reduction_history.append(next_term)\n",
        "    if reduced == True:\n",
        "      return reduction_history\n",
        "    if len(term) > max_length:\n",
        "      return reduction_history\n",
        "    term = next_term\n",
        "  return reduction_history\n",
        "\n",
        "def all_repeat_reduce(term, max_size=100, max_repeat=10):\n",
        "  i = 0\n",
        "  all_term_list = [term]\n",
        "  while i < len(all_term_list) < max_repeat:\n",
        "      next_term_list = calculator_reduce(all_term_list[i], reduction_order=\"all\")\n",
        "      if next_term_list == []:\n",
        "        break\n",
        "      for next_term in next_term_list:\n",
        "        if next_term not in all_term_list:\n",
        "          all_term_list.append(next_term)\n",
        "      i += 1\n",
        "  return all_term_list\n",
        "\n",
        "def definitionally_equal(term1, term2, max_size=100):\n",
        "  if set(all_repeat_reduce(term1, max_size)) & set(all_repeat_reduce(term2, max_size)) != set():\n",
        "    return True\n",
        "  else:\n",
        "    return False"
      ],
      "metadata": {
        "id": "eIGiCem7aW8g"
      },
      "execution_count": null,
      "outputs": []
    },
    {
      "cell_type": "code",
      "source": [
        "def construct_nand(nand, term1):\n",
        "  term2 = \"AA\" + nand + term1 + term1\n",
        "  if definitionally_equal(term1, term2):\n",
        "    return \"failed\"\n",
        "  tf = definitionally_equal(\"AA\" + nand + term1 + term2, term1)\n",
        "  ft = definitionally_equal(\"AA\" + nand + term2 + term1, term1)\n",
        "  ff = definitionally_equal(\"AA\" + nand + term2 + term2, term1)\n",
        "  if tf and ft and ff:\n",
        "    return (nand, term1, term2)\n",
        "  else:\n",
        "    return \"failed\""
      ],
      "metadata": {
        "id": "4bnIuokMRrkI"
      },
      "execution_count": null,
      "outputs": []
    },
    {
      "cell_type": "code",
      "source": [
        "#de brujin index\n",
        "#special_token_list = {\"S\": [3, [\"A\", \"A\", 1, 3, \"A\", 2, 3]], \"K\": [2, [1]], \"I\": [1, [1]]}\n",
        "special_token_list = {\"F\": [3, [\"A\", \"A\", 3, 2, 1]], \"R\": [3, [\"A\", \"A\", 2, 3, 1]]}\n",
        "variable_token_list = []\n",
        "token_list = list(special_token_list.keys()) + variable_token_list"
      ],
      "metadata": {
        "id": "V97JNTJKobDK"
      },
      "execution_count": null,
      "outputs": []
    },
    {
      "cell_type": "code",
      "source": [
        "candidate_list = variable_generate_sequences(token_list, 8)\n",
        "\n",
        "for candidate in candidate_list:\n",
        "  if definitionally_equal(\"AAA\" + candidate + \"XYZ\", \"AAZXY\"):\n",
        "    print(candidate)\n",
        "    break"
      ],
      "metadata": {
        "colab": {
          "base_uri": "https://localhost:8080/"
        },
        "id": "Ezi6Xcvmc9A4",
        "outputId": "4bad7ba1-c5be-40ed-9a08-7e081a00a2b2"
      },
      "execution_count": null,
      "outputs": [
        {
          "output_type": "stream",
          "name": "stdout",
          "text": [
            "Total number of sequences after variable replacement: 129958\n",
            "AARFR\n"
          ]
        }
      ]
    }
  ]
}