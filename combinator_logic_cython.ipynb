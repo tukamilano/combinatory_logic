{
  "cells": [
    {
      "cell_type": "markdown",
      "metadata": {
        "id": "view-in-github",
        "colab_type": "text"
      },
      "source": [
        "<a href=\"https://colab.research.google.com/github/tukamilano/combinatory_logic/blob/main/combinator_logic_cython.ipynb\" target=\"_parent\"><img src=\"https://colab.research.google.com/assets/colab-badge.svg\" alt=\"Open In Colab\"/></a>"
      ]
    },
    {
      "cell_type": "code",
      "execution_count": 1,
      "metadata": {
        "id": "8S_KF7tAUbeA"
      },
      "outputs": [],
      "source": [
        "%load_ext Cython"
      ]
    },
    {
      "cell_type": "code",
      "execution_count": 2,
      "metadata": {
        "colab": {
          "base_uri": "https://localhost:8080/"
        },
        "id": "Qw4NuuvepNu8",
        "outputId": "8cd3afb6-0e64-47fa-8c96-1d5e652c3e24"
      },
      "outputs": [
        {
          "output_type": "stream",
          "name": "stdout",
          "text": [
            "Requirement already satisfied: tqdm in /usr/local/lib/python3.10/dist-packages (4.66.4)\n"
          ]
        }
      ],
      "source": [
        "!pip install tqdm"
      ]
    },
    {
      "cell_type": "code",
      "execution_count": 3,
      "metadata": {
        "id": "sqB5XE0JhNDU"
      },
      "outputs": [],
      "source": [
        "%%cython\n",
        "from itertools import product\n",
        "from cpython cimport bool\n",
        "\n",
        "special_token_list = {\"B\": [3, [\"A\", 1, \"A\", 2, 3]], \"T\": [2, [\"A\", 2, 1]], \"M\": [1, [\"A\", 1, 1]]}\n",
        "variable_token_list = []\n",
        "token_list = list(special_token_list.keys()) + variable_token_list\n",
        "\n",
        "cpdef repeat_reduce(str term, str reduction_order=\"left\", int max_repeat=10, int max_length=100):\n",
        "    cdef int i = 0\n",
        "    cdef list reduction_history = [term]\n",
        "    cdef str next_term\n",
        "    cdef bool reduced\n",
        "\n",
        "    while i < max_repeat:\n",
        "        next_term, reduced = calculator_reduce(term, reduction_order)\n",
        "        i += 1\n",
        "        if term != next_term:\n",
        "            reduction_history.append(next_term)\n",
        "        if reduced == True:\n",
        "            return reduction_history\n",
        "        if len(term) > max_length:\n",
        "            return reduction_history\n",
        "        term = next_term\n",
        "\n",
        "    return reduction_history\n",
        "\n",
        "cpdef calculator_reduce(str term, str reduction_order):\n",
        "    cdef bool reduced = True\n",
        "    cdef list scan\n",
        "    cdef int i\n",
        "    cdef str special_token\n",
        "    cdef int depth\n",
        "    cdef int pointer\n",
        "    cdef list separator\n",
        "    cdef int num_placeholder\n",
        "    cdef str new_term\n",
        "    cdef repl\n",
        "    cdef list next_term_list = []\n",
        "\n",
        "    if (reduction_order == \"left\") or (reduction_order == \"all\"):\n",
        "        scan = list(range(len(term)))\n",
        "    else:\n",
        "        scan = list(reversed(range(len(term))))\n",
        "\n",
        "    for i in scan:\n",
        "        for special_token in special_token_list:\n",
        "            depth = special_token_list[special_token][0]\n",
        "            if (depth <= i) and (term[i-depth:i+1] == \"A\" * depth + special_token):\n",
        "                pointer = i+1\n",
        "                separator = [pointer]\n",
        "                for _ in range(depth):\n",
        "                    num_placeholder = 1\n",
        "                    while num_placeholder != 0:\n",
        "                        if term[pointer] == \"A\":\n",
        "                            num_placeholder += 1\n",
        "                        else:\n",
        "                            num_placeholder -= 1\n",
        "                        pointer += 1\n",
        "                    separator.append(pointer)\n",
        "\n",
        "                new_term = term[:i-depth]\n",
        "                for repl in special_token_list[special_token][1]:\n",
        "                    if isinstance(repl, str):\n",
        "                        new_term += repl\n",
        "                    else:\n",
        "                        new_term += term[(separator[repl-1]):(separator[repl])]\n",
        "                new_term += term[pointer:]\n",
        "                reduced = False\n",
        "\n",
        "                if (reduction_order == \"left\") or (reduction_order == \"right\"):\n",
        "                    return new_term, reduced\n",
        "                else:\n",
        "                    next_term_list.append(new_term)\n",
        "\n",
        "    if (reduction_order == \"left\") or (reduction_order == \"right\"):\n",
        "        return term, reduced\n",
        "    else:\n",
        "        return next_term_list\n",
        "\n",
        "cpdef _generate_fixed_structure(int n, str sequence='', int a_count=0, int l_count=0, list results=None):\n",
        "    if results is None:\n",
        "        results = []\n",
        "\n",
        "    if len(sequence) == 2 * n:\n",
        "        results.append(sequence + \"V\")\n",
        "        return results\n",
        "\n",
        "    if a_count < n:\n",
        "        _generate_fixed_structure(n, sequence + 'A', a_count + 1, l_count, results)\n",
        "    if l_count < a_count:\n",
        "        _generate_fixed_structure(n, sequence + 'V', a_count, l_count + 1, results)\n",
        "\n",
        "    return results\n",
        "\n",
        "cpdef _replace_variables(list all_structures, list token_list):\n",
        "    cdef list new_sequences = []\n",
        "    cdef str sequence\n",
        "    cdef int v_count\n",
        "    cdef replacement\n",
        "    cdef str new_sequence\n",
        "    cdef var\n",
        "\n",
        "    for sequence in all_structures:\n",
        "        v_count = sequence.count(\"V\")\n",
        "        for replacement in product(token_list, repeat=v_count):\n",
        "            new_sequence = sequence\n",
        "            for var in replacement:\n",
        "                new_sequence = new_sequence.replace(\"V\", var, 1)\n",
        "            new_sequences.append(new_sequence)\n",
        "\n",
        "    return new_sequences\n",
        "\n",
        "cpdef variable_generate_sequences(list token_list, int length):\n",
        "    cdef list all_structures = []\n",
        "    cdef int n\n",
        "    cdef list structure\n",
        "    cdef list all_sequences\n",
        "\n",
        "    for n in range(0, length):\n",
        "        structure = _generate_fixed_structure(n)\n",
        "        all_structures.extend(structure)\n",
        "\n",
        "    all_sequences = _replace_variables(all_structures, token_list)\n",
        "    print(f\"Total number of sequences after variable replacement: {len(all_sequences)}\")\n",
        "    return all_sequences\n",
        "\n",
        "cpdef all_repeat_reduce(str term, int max_size=100, int max_repeat=10):\n",
        "    cdef int i = 0\n",
        "    cdef list all_term_list = [term]\n",
        "    cdef list next_term_list\n",
        "\n",
        "    while i < len(all_term_list) < max_repeat:\n",
        "        next_term_list = calculator_reduce(all_term_list[i], reduction_order=\"all\")\n",
        "        if next_term_list == []:\n",
        "            break\n",
        "        for next_term in next_term_list:\n",
        "            if next_term not in all_term_list:\n",
        "                all_term_list.append(next_term)\n",
        "        i += 1\n",
        "\n",
        "    return all_term_list\n",
        "\n",
        "cpdef bool definitionally_equal(str term1, str term2, int max_size=100):\n",
        "    if set(all_repeat_reduce(term1, max_size)) & set(all_repeat_reduce(term2, max_size)) != set():\n",
        "        return True\n",
        "    else:\n",
        "        return False"
      ]
    },
    {
      "cell_type": "code",
      "execution_count": 4,
      "metadata": {
        "id": "eIGiCem7aW8g"
      },
      "outputs": [],
      "source": [
        "from tqdm import tqdm\n",
        "\n",
        "def identification(candidate_list):\n",
        "  clean_candidate_list = []\n",
        "  for candidate in tqdm(candidate_list):\n",
        "    ident = False\n",
        "    for clean_candidate in clean_candidate_list:\n",
        "      if definitionally_equal(\"AAA\" + candidate + \"XYZ\", \"AAA\" + clean_candidate + \"XYZ\"):\n",
        "        ident = True\n",
        "        break\n",
        "    if not ident:\n",
        "      clean_candidate_list.append(candidate)\n",
        "  print(f\"Total number of clean_candidate: {len(clean_candidate_list)}\")\n",
        "  return clean_candidate_list\n"
      ]
    },
    {
      "cell_type": "code",
      "execution_count": 5,
      "metadata": {
        "colab": {
          "base_uri": "https://localhost:8080/"
        },
        "id": "XFSm1JVon5Oe",
        "outputId": "5d8f3400-9720-4924-cff1-87736910d4b5"
      },
      "outputs": [
        {
          "output_type": "stream",
          "name": "stdout",
          "text": [
            "Total number of sequences after variable replacement: 323175\n"
          ]
        }
      ],
      "source": [
        "from itertools import permutations\n",
        "\n",
        "candidate_list = variable_generate_sequences(token_list, 7)\n",
        "#clean_candidate_list = identification(candidate_list)"
      ]
    },
    {
      "cell_type": "code",
      "source": [
        "for candidate in candidate_list:\n",
        "    if definitionally_equal(\"AAA\" + candidate + \"XYZ\", \"AAXZAYZ\"):\n",
        "        print(candidate)\n",
        "        break"
      ],
      "metadata": {
        "id": "PJhHRN7HnazE"
      },
      "execution_count": 6,
      "outputs": []
    }
  ],
  "metadata": {
    "colab": {
      "provenance": [],
      "authorship_tag": "ABX9TyObQDb+PDiXUceS5yRHOyeJ",
      "include_colab_link": true
    },
    "kernelspec": {
      "display_name": "Python 3",
      "name": "python3"
    },
    "language_info": {
      "name": "python"
    }
  },
  "nbformat": 4,
  "nbformat_minor": 0
}